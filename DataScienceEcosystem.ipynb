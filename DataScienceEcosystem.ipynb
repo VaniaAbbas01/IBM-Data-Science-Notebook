{
 "cells": [
  {
   "cell_type": "markdown",
   "id": "fdc3df4b-e3ac-4c3c-89c3-0fe2abcd8561",
   "metadata": {},
   "source": [
    "<h1> Data Science Tools and Ecosystem </h1>\n",
    "\n"
   ]
  },
  {
   "cell_type": "markdown",
   "id": "37b11080-8f22-4286-a8a1-2672fd9e2e3d",
   "metadata": {},
   "source": [
    "In this notebook, Data Science Tools and Ecosystem are summarized."
   ]
  },
  {
   "cell_type": "markdown",
   "id": "3e8a4754-9601-4b0e-ac4f-850550de08e1",
   "metadata": {},
   "source": [
    "**Objectives:**\r\n",
    "\r\n",
    "- List popular languages for Data Science\r\n",
    "- Introduce common data science tools\r\n",
    "- Demonstrate data visualization techniques\r\n",
    "- Explain data preprocessing steps\r\n",
    "- Outline basic machine learning concepts\r\n"
   ]
  },
  {
   "cell_type": "markdown",
   "id": "de6c9e5f-3981-463c-b9b2-b30a0d6262bc",
   "metadata": {},
   "source": [
    "Some of the popular languages that Data Scientists use are:\r\n",
    "\r\n",
    "1. Python\r\n",
    "2. R\r\n",
    "3. SQL\r\n",
    "4. Julia\r\n",
    "5. Java\r\n",
    "\n",
    "\n"
   ]
  },
  {
   "cell_type": "markdown",
   "id": "bdffdb0b-4217-4354-b5f4-ec9059a89d83",
   "metadata": {},
   "source": [
    "Some of the commonly used libraries used by Data Scientists include:\n",
    "\n",
    "1. NumPy\n",
    "2. Pandas\n",
    "3. Matplotlib\n",
    "4. Scikit-Learn\n",
    "5. TensorFlow\n"
   ]
  },
  {
   "cell_type": "markdown",
   "id": "4ca22342-6d13-4ffa-b6ea-4f090d5d94e6",
   "metadata": {},
   "source": [
    "<table>\r\n",
    "    <tr>\r\n",
    "        <th>Data Science Tools</th>\r\n",
    "    </tr>\r\n",
    "    <tr>\r\n",
    "        <td>Jupyter Notebook</td>\r\n",
    "    </tr>\r\n",
    "    <tr>\r\n",
    "        <td>RStudio</td>\r\n",
    "    </tr>\r\n",
    "    <tr>\r\n",
    "        <td>Apache Zeppelin</td>\r\n",
    "    </tr>\r\n",
    "</table>\r\n"
   ]
  },
  {
   "cell_type": "markdown",
   "id": "ab9a9134-eb34-405c-a21e-0a477bc9869a",
   "metadata": {},
   "source": [
    "<h3>Below are a few examples of evaluating arithmetic expressions in Python</h3>"
   ]
  },
  {
   "cell_type": "code",
   "execution_count": 4,
   "id": "4d204c72-6310-4e4f-870b-331292d1ff15",
   "metadata": {},
   "outputs": [
    {
     "data": {
      "text/plain": [
       "17"
      ]
     },
     "execution_count": 4,
     "metadata": {},
     "output_type": "execute_result"
    }
   ],
   "source": [
    "# This a simple arithmetic expression to mutiply then add integers\n",
    "(3*4)+5"
   ]
  },
  {
   "cell_type": "code",
   "execution_count": 5,
   "id": "fac16424-a646-4eb3-ba45-9e902ae38d5a",
   "metadata": {},
   "outputs": [
    {
     "data": {
      "text/plain": [
       "3.3333333333333335"
      ]
     },
     "execution_count": 5,
     "metadata": {},
     "output_type": "execute_result"
    }
   ],
   "source": [
    "# This will convert 200 minutes to hours by dividng by 60\n",
    "\n",
    "200 / 60"
   ]
  },
  {
   "cell_type": "markdown",
   "id": "663c6d3f-e1f3-4427-957c-8ebea0df745d",
   "metadata": {},
   "source": [
    "<h2>Author</h2>\n",
    "Vania Abbas"
   ]
  }
 ],
 "metadata": {
  "kernelspec": {
   "display_name": "Python 3 (ipykernel)",
   "language": "python",
   "name": "python3"
  },
  "language_info": {
   "codemirror_mode": {
    "name": "ipython",
    "version": 3
   },
   "file_extension": ".py",
   "mimetype": "text/x-python",
   "name": "python",
   "nbconvert_exporter": "python",
   "pygments_lexer": "ipython3",
   "version": "3.11.7"
  }
 },
 "nbformat": 4,
 "nbformat_minor": 5
}
